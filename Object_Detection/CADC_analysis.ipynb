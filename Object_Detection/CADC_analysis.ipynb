{
 "cells": [
  {
   "cell_type": "code",
   "execution_count": 2,
   "id": "58a6e94a",
   "metadata": {},
   "outputs": [],
   "source": [
    "import os\n",
    "import glob\n",
    "import json\n",
    "import pickle\n",
    "import numpy as np\n",
    "import scipy.spatial\n",
    "import open3d as o3d\n",
    "from tqdm.notebook import tqdm\n",
    "from mmdet3d.utils import register_all_modules\n",
    "from mmdet3d.apis import inference_detector, init_model\n",
    "\n",
    "from functools import partial\n",
    "from pointcloud_filters import (ROR_fn, SOR_fn, \n",
    "                                DROR_fn, DSOR_fn, \n",
    "                                LIOR_fn, DDIOR_fn)"
   ]
  },
  {
   "cell_type": "code",
   "execution_count": 3,
   "id": "3685b9d9",
   "metadata": {},
   "outputs": [],
   "source": [
    "register_all_modules()"
   ]
  },
  {
   "cell_type": "code",
   "execution_count": null,
   "id": "0b1ecacd",
   "metadata": {},
   "outputs": [],
   "source": [
    "filter_fns = {\n",
    "    # \"ROR\": partial(ROR_fn, radius=0.25, min_neighbour=3), \n",
    "    # \"SOR\": partial(SOR_fn, num_neighbour=3, std_mul=0.01, distance_upper_bound=np.inf), \n",
    "    \"DROR\": partial(DROR_fn, radius_multiplier=3, azimuth_angle_deg=0.4, min_neighbour=3, min_search_radius=0, max_search_radius=10), \n",
    "    \"DSOR\": partial(DSOR_fn, num_neighbour=3, std_mul=0.01, range_mul=0.05, distance_upper_bound=np.inf), \n",
    "    \"LIOR\": partial(LIOR_fn, snow_detection_range=71.2, intensity_th=1, search_radius=0.1, min_neigbour=3), \n",
    "    \"DDIOR\": partial(DDIOR_fn, num_neighbour=3)}"
   ]
  },
  {
   "cell_type": "code",
   "execution_count": 4,
   "id": "76574a67",
   "metadata": {},
   "outputs": [],
   "source": [
    "class ObjectDetection3D:\n",
    "    def __init__(self):\n",
    "        config_file = \"configs/pointpillars/pointpillars_hv_fpn_sbn-all_8xb4-2x_nus-3d.py\"\n",
    "        checkpoint_file = \"hv_pointpillars_fpn_sbn-all_4x8_2x_nus-3d_20210826_104936-fca299c1.pth\"\n",
    "        self.model = init_model(config_file, checkpoint_file, device=\"cuda:0\")\n",
    "    \n",
    "    def detectObjects(self, pc:np.ndarray)->np.ndarray:\n",
    "        results, _ = inference_detector(self.model, pc[:,:5].copy())\n",
    "        scores_3d = results.pred_instances_3d.scores_3d.cpu().numpy()\n",
    "        bboxes_3d = results.pred_instances_3d.bboxes_3d.tensor.cpu().numpy()\n",
    "        labels_3d = results.pred_instances_3d.labels_3d.cpu().numpy()\n",
    "        \n",
    "        box_as_list_of_string = []\n",
    "        for score, bbox, lbl in zip(scores_3d, bboxes_3d, labels_3d):\n",
    "            if (lbl in gt_lbl2name):\n",
    "                box = bbox[:7].tolist()+[score]\n",
    "                box[2] = box[2]+0.5*box[5]\n",
    "                box = ['{:0.6f}'.format(b) for b in box]\n",
    "                box = [gt_lbl2name[int(lbl)]] + box\n",
    "                box_as_list_of_string.append(\",\".join(box))\n",
    "        return box_as_list_of_string"
   ]
  },
  {
   "cell_type": "code",
   "execution_count": 5,
   "id": "f0f44ec8",
   "metadata": {},
   "outputs": [],
   "source": [
    "# def DSOR_fn(cloud, num_neighbour=5, std_mul=0.01, range_mul=0.05):\n",
    "#     kdtree = scipy.spatial.KDTree(cloud)\n",
    "#     distances, indices = kdtree.query(np.array(cloud), k=num_neighbour, workers=12)\n",
    "    \n",
    "#     mean_distances = distances[:,1:].sum(axis=1)/(num_neighbour-1)\n",
    "#     sum_ = mean_distances.sum()\n",
    "#     sq_sum = (mean_distances*mean_distances).sum()\n",
    "#     mean = sum_/len(mean_distances)\n",
    "#     variance = (sq_sum - sum_*sum_ / len(mean_distances)) / (len(mean_distances)-1)\n",
    "#     stddev = np.sqrt(variance)\n",
    "#     disance_threshold  = mean + std_mul*stddev\n",
    "    \n",
    "#     # print(f\"mean: {mean}, varience: {variance}, distance_th: {disance_threshold}\")\n",
    "\n",
    "#     pnt_range = np.linalg.norm(cloud, axis=1)\n",
    "#     dynamic_threshold = disance_threshold * range_mul * pnt_range\n",
    "#     inlier_bool = mean_distances < dynamic_threshold\n",
    "#     return inlier_bool\n",
    "\n",
    "def closestIdx(x):\n",
    "    angles = np.linspace(-25,15,32)\n",
    "    idx = np.argmin(np.abs(angles-x))\n",
    "    return idx\n",
    "\n",
    "closestIdx_vectorize = np.vectorize(closestIdx)\n",
    "\n",
    "def addRingInfo(pc):\n",
    "    # FOV; 40°, vertical FOV (-25° to +15°)\n",
    "    r = np.linalg.norm(pc[:,:2], axis=1)\n",
    "    t = np.degrees(np.arctan(pc[:,2]/r))\n",
    "    ring = closestIdx_vectorize(t)\n",
    "    return np.hstack((pc, ring[:,None]))\n",
    "\n",
    "def getBBoxFromGTCuboids(cuboids, nmin=10):\n",
    "    bbox_as_list_of_string = []\n",
    "    for bb_dict in cuboids:\n",
    "        label = bb_dict['label']\n",
    "        pos = bb_dict['position']\n",
    "        dim = bb_dict['dimensions']\n",
    "        yaw = bb_dict['yaw']\n",
    "        points_count = bb_dict['points_count']\n",
    "        if (points_count>=nmin) and (np.abs(pos['x'])<=50) and (np.abs(pos['y'])<=50) and (label in cadc_ids2name):\n",
    "            box = [pos['x'], pos['y'], pos['z'], dim['y'], dim['x'], dim['z'], yaw]\n",
    "            box = ['{:0.6f}'.format(b) for b in box]\n",
    "            box = [cadc_ids2name[label]] + box\n",
    "            bbox_as_list_of_string.append(\",\".join(box))\n",
    "    return bbox_as_list_of_string"
   ]
  },
  {
   "cell_type": "code",
   "execution_count": 6,
   "id": "2e46b0af",
   "metadata": {},
   "outputs": [],
   "source": [
    "cadc_ids = [\"Car\", \"Pedestrian\", \"Truck\", \"Bus\", \"Garbage_Containers_on_Wheels\", \"Traffic_Guidance_Objects\", \"Bicycle\", \"Pedestrian_With_Object\", \"Horse_and_Buggy\", \"Animals\"]\n",
    "cadc_ids2name = {\n",
    "    \"Car\": \"vehicle\", \n",
    "    \"Truck\": \"vehicle\", \n",
    "    \"Bus\": \"vehicle\",\n",
    "    \"Bicycle\": \"cycle\",\n",
    "    \"Pedestrian\": \"person\", \n",
    "    \"Pedestrian_With_Object\": \"person\" \n",
    "}"
   ]
  },
  {
   "cell_type": "code",
   "execution_count": 7,
   "id": "9b9451b2",
   "metadata": {},
   "outputs": [],
   "source": [
    "nus_id2lbl = {'car': 0, \n",
    "              'truck': 1, \n",
    "              'trailer': 2, \n",
    "              'bus': 3,\n",
    "              'construction_vehicle': 4,\n",
    "              'bicycle': 5,\n",
    "              'motorcycle': 6,\n",
    "              'pedestrian': 7,\n",
    "              'traffic_cone': 8,\n",
    "              'barrier': 9}\n",
    "nus_lbl2id = {v:k for k, v in nus_id2lbl.items()}\n",
    "\n",
    "gt_lbl2name  = {0: \"vehicle\", 1: \"vehicle\", 2: \"vehicle\", 3: \"vehicle\", 4: \"vehicle\", 5: \"cycle\", 6: \"cycle\", 7: \"person\"}"
   ]
  },
  {
   "cell_type": "code",
   "execution_count": 8,
   "id": "76df947f",
   "metadata": {},
   "outputs": [
    {
     "name": "stderr",
     "output_type": "stream",
     "text": [
      "/home/saikrishna/ML_Projetcs/Libraries/3d-object-detector/mmdetection3d/mmdet3d/models/dense_heads/anchor3d_head.py:94: UserWarning: dir_offset and dir_limit_offset will be depressed and be incorporated into box coder in the future\n",
      "  warnings.warn(\n"
     ]
    },
    {
     "name": "stdout",
     "output_type": "stream",
     "text": [
      "Loads checkpoint by local backend from path: hv_pointpillars_fpn_sbn-all_4x8_2x_nus-3d_20210826_104936-fca299c1.pth\n"
     ]
    }
   ],
   "source": [
    "object_det = ObjectDetection3D()"
   ]
  },
  {
   "cell_type": "code",
   "execution_count": null,
   "id": "0c1b3f5a",
   "metadata": {},
   "outputs": [],
   "source": [
    "folders = sorted(glob.glob(\"/media/saikrishna/T7/Dataset/cadc_devkit/cadcd/*/00*\"))\n",
    "lidar_path = \"labeled/lidar_points/data/\"\n",
    "annotation_filename = \"3d_ann.json\"\n",
    "\n",
    "for filter_name in tqdm(filter_fns, desc=\"Filters\"):\n",
    "    filter_fn = filter_fns[filter_name]\n",
    "    \n",
    "    save_loc = os.path.join(\"results/\", f\"cadc_preds_w_{filter_name}\")\n",
    "    os.makedirs(save_loc, exist_ok=True)\n",
    "    \n",
    "    for folder in tqdm(folders, desc=\"Folders\"):\n",
    "        lidar_scans = sorted(glob.glob(os.path.join(folder, lidar_path, \"*.bin\")))\n",
    "\n",
    "        with open(os.path.join(folder,annotation_filename), 'r') as f:\n",
    "            annotations = json.load(f) \n",
    "\n",
    "        for ind, scan in enumerate(tqdm(lidar_scans, desc=\"Lidar Scans\")):\n",
    "            name = \"-\".join(folder.split('/')[-2:] + [\"{:010d}\".format(ind)])+\".txt\"\n",
    "\n",
    "            # gtann = annotations[ind]\n",
    "            # gts = getBBoxFromGTCuboids(gtann['cuboids'])\n",
    "            # with open(os.path.join(\"cadc_gts\", name), 'w') as f:\n",
    "            #     f.write(\"\\n\".join(gts))    \n",
    "\n",
    "            pc = addRingInfo(np.fromfile(scan, dtype=np.float32).reshape(-1, 4))\n",
    "            inlier = filter_fn(pc[:,:4])\n",
    "            preds = object_det.detectObjects(pc[inlier])\n",
    "            with open(os.path.join(save_loc, name), 'w') as f:\n",
    "                f.write(\"\\n\".join(preds))"
   ]
  },
  {
   "cell_type": "code",
   "execution_count": 19,
   "id": "05a9093f",
   "metadata": {},
   "outputs": [
    {
     "data": {
      "application/vnd.jupyter.widget-view+json": {
       "model_id": "4db5398431014548a5770ef84bf8ae5c",
       "version_major": 2,
       "version_minor": 0
      },
      "text/plain": [
       "Folders:   0%|          | 0/9 [00:00<?, ?it/s]"
      ]
     },
     "metadata": {},
     "output_type": "display_data"
    },
    {
     "data": {
      "application/vnd.jupyter.widget-view+json": {
       "model_id": "c47076dd21764b53a20963692ee1e3fa",
       "version_major": 2,
       "version_minor": 0
      },
      "text/plain": [
       "Lidar Scans:   0%|          | 0/100 [00:00<?, ?it/s]"
      ]
     },
     "metadata": {},
     "output_type": "display_data"
    },
    {
     "name": "stderr",
     "output_type": "stream",
     "text": [
      "/home/saikrishna/miniconda3/envs/mmdet/lib/python3.10/site-packages/torch/functional.py:504: UserWarning: torch.meshgrid: in an upcoming release, it will be required to pass the indexing argument. (Triggered internally at /opt/conda/conda-bld/pytorch_1670525552843/work/aten/src/ATen/native/TensorShape.cpp:3190.)\n",
      "  return _VF.meshgrid(tensors, **kwargs)  # type: ignore[attr-defined]\n"
     ]
    },
    {
     "data": {
      "application/vnd.jupyter.widget-view+json": {
       "model_id": "c7b13d7ebb7d4b179eba1ec73d54f551",
       "version_major": 2,
       "version_minor": 0
      },
      "text/plain": [
       "Lidar Scans:   0%|          | 0/100 [00:00<?, ?it/s]"
      ]
     },
     "metadata": {},
     "output_type": "display_data"
    },
    {
     "data": {
      "application/vnd.jupyter.widget-view+json": {
       "model_id": "d7b309d3afdc4dcb9845e386df407a36",
       "version_major": 2,
       "version_minor": 0
      },
      "text/plain": [
       "Lidar Scans:   0%|          | 0/100 [00:00<?, ?it/s]"
      ]
     },
     "metadata": {},
     "output_type": "display_data"
    },
    {
     "data": {
      "application/vnd.jupyter.widget-view+json": {
       "model_id": "681e842d3bb443c9842e4a58826937c0",
       "version_major": 2,
       "version_minor": 0
      },
      "text/plain": [
       "Lidar Scans:   0%|          | 0/50 [00:00<?, ?it/s]"
      ]
     },
     "metadata": {},
     "output_type": "display_data"
    },
    {
     "data": {
      "application/vnd.jupyter.widget-view+json": {
       "model_id": "90152a5715714703ab48049fea761ba1",
       "version_major": 2,
       "version_minor": 0
      },
      "text/plain": [
       "Lidar Scans:   0%|          | 0/100 [00:00<?, ?it/s]"
      ]
     },
     "metadata": {},
     "output_type": "display_data"
    },
    {
     "data": {
      "application/vnd.jupyter.widget-view+json": {
       "model_id": "eb8785f4ea6c43359bd2444f34725b7c",
       "version_major": 2,
       "version_minor": 0
      },
      "text/plain": [
       "Lidar Scans:   0%|          | 0/100 [00:00<?, ?it/s]"
      ]
     },
     "metadata": {},
     "output_type": "display_data"
    },
    {
     "data": {
      "application/vnd.jupyter.widget-view+json": {
       "model_id": "73d35486875d4f0a877d2e81c2b0045a",
       "version_major": 2,
       "version_minor": 0
      },
      "text/plain": [
       "Lidar Scans:   0%|          | 0/96 [00:00<?, ?it/s]"
      ]
     },
     "metadata": {},
     "output_type": "display_data"
    },
    {
     "data": {
      "application/vnd.jupyter.widget-view+json": {
       "model_id": "ab937b0f4d2a4b1096c2008ef5947985",
       "version_major": 2,
       "version_minor": 0
      },
      "text/plain": [
       "Lidar Scans:   0%|          | 0/100 [00:00<?, ?it/s]"
      ]
     },
     "metadata": {},
     "output_type": "display_data"
    },
    {
     "data": {
      "application/vnd.jupyter.widget-view+json": {
       "model_id": "7a6a2f0adeee4ba599669502a0ea80e6",
       "version_major": 2,
       "version_minor": 0
      },
      "text/plain": [
       "Lidar Scans:   0%|          | 0/50 [00:00<?, ?it/s]"
      ]
     },
     "metadata": {},
     "output_type": "display_data"
    }
   ],
   "source": [
    "folders = sorted(glob.glob(\"/media/saikrishna/T7/Dataset/cadc_devkit/cadcd/*/00*\"))\n",
    "lidar_path = \"labeled/lidar_points/data/\"\n",
    "annotation_filename = \"3d_ann.json\"\n",
    "    \n",
    "save_loc = os.path.join(\"results/\", f\"cadc_preds_intensity\")\n",
    "os.makedirs(save_loc, exist_ok=True)\n",
    "\n",
    "for folder in tqdm(folders, desc=\"Folders\"):\n",
    "    lidar_scans = sorted(glob.glob(os.path.join(folder, lidar_path, \"*.bin\")))\n",
    "\n",
    "    with open(os.path.join(folder,annotation_filename), 'r') as f:\n",
    "        annotations = json.load(f) \n",
    "\n",
    "    for ind, scan in enumerate(tqdm(lidar_scans, desc=\"Lidar Scans\")):\n",
    "        name = \"-\".join(folder.split('/')[-2:] + [\"{:010d}\".format(ind)])+\".txt\"\n",
    "\n",
    "#         gtann = annotations[ind]\n",
    "#         gts = getBBoxFromGTCuboids(gtann['cuboids'])\n",
    "#         with open(os.path.join(\"cadc_gts\", name), 'w') as f:\n",
    "#             f.write(\"\\n\".join(gts))    \n",
    "    \n",
    "        pc = addRingInfo(np.fromfile(scan, dtype=np.float32).reshape(-1, 4))\n",
    "        np.random.shuffle(pc[:,3]) #shuffle intensity\n",
    "        preds = object_det.detectObjects(pc)\n",
    "        with open(os.path.join(save_loc, name), 'w') as f:\n",
    "            f.write(\"\\n\".join(preds))"
   ]
  },
  {
   "cell_type": "code",
   "execution_count": null,
   "id": "c81008f5",
   "metadata": {},
   "outputs": [],
   "source": []
  }
 ],
 "metadata": {
  "kernelspec": {
   "display_name": "Python 3 (ipykernel)",
   "language": "python",
   "name": "python3"
  },
  "language_info": {
   "codemirror_mode": {
    "name": "ipython",
    "version": 3
   },
   "file_extension": ".py",
   "mimetype": "text/x-python",
   "name": "python",
   "nbconvert_exporter": "python",
   "pygments_lexer": "ipython3",
   "version": "3.10.13"
  }
 },
 "nbformat": 4,
 "nbformat_minor": 5
}
