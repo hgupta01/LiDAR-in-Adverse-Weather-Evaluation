{
 "cells": [
  {
   "cell_type": "code",
   "execution_count": 1,
   "id": "f081b04c",
   "metadata": {},
   "outputs": [
    {
     "name": "stdout",
     "output_type": "stream",
     "text": [
      "Jupyter environment detected. Enabling Open3D WebVisualizer.\n",
      "[Open3D INFO] WebRTC GUI backend enabled.\n",
      "[Open3D INFO] WebRTCWindowSystem: HTTP handshake server disabled.\n"
     ]
    }
   ],
   "source": [
    "import glob\n",
    "import yaml\n",
    "import time\n",
    "import numpy as np\n",
    "import open3d as o3d\n",
    "import pandas as pd\n",
    "from pathlib import Path\n",
    "from tqdm.auto import tqdm\n",
    "from functools import partial\n",
    "from tqdm.contrib import tzip\n",
    "from sklearn.metrics import (accuracy_score, \n",
    "                             precision_score, \n",
    "                             recall_score)\n",
    "from pointcloud_filters import (ROR_fn, SOR_fn, \n",
    "                                DROR_fn, DSOR_fn, \n",
    "                                LIOR_fn, DDIOR_fn, AGDOR_fn)"
   ]
  },
  {
   "cell_type": "code",
   "execution_count": 8,
   "id": "47f205d8",
   "metadata": {},
   "outputs": [],
   "source": [
    "# scan = np.fromfile(\"data_fog/1705396208_0820758.bin\", dtype=np.float32).reshape(-1, 5)\n",
    "# labels = np.fromfile(\"data_fog/1705396208_0820758.label\", dtype=np.int32)\n",
    "scan = np.fromfile(\"data_fog/1705396217_0796814.bin\", dtype=np.float32).reshape(-1, 5)\n",
    "labels = np.fromfile(\"data_fog/1705396217_0796814.label\", dtype=np.int32)\n",
    "\n",
    "mask = scan[:,2]<1.5\n",
    "pcd = o3d.geometry.PointCloud(o3d.utility.Vector3dVector(scan[mask,:3]))\n",
    "colors = np.zeros((mask.sum(), 3))\n",
    "colors[labels[mask]==0] = np.array([153.0, 157.0, 160.0])/255.0\n",
    "colors[labels[mask]==1] = np.array([50.0, 97.0, 227.0])/255.0\n",
    "pcd.colors = o3d.utility.Vector3dVector(colors)\n",
    "o3d.visualization.draw_geometries([pcd])"
   ]
  },
  {
   "cell_type": "code",
   "execution_count": 3,
   "id": "fe7d6247",
   "metadata": {},
   "outputs": [
    {
     "name": "stdout",
     "output_type": "stream",
     "text": [
      "Precision: 0.3732590529247911, Recall: 0.014587415632484215\n"
     ]
    }
   ],
   "source": [
    "inliers = ROR_fn(scan[:,:3], radius=0.3, min_neighbour=5)\n",
    "ROR_preds = np.logical_not(inliers).astype(np.int32)\n",
    "\n",
    "mask = scan[:,2]<1.5\n",
    "pcd = o3d.geometry.PointCloud(o3d.utility.Vector3dVector(scan[mask,:3]))\n",
    "colors = np.zeros((mask.sum(), 3))\n",
    "colors[ROR_preds[mask]==0] = np.array([153.0, 157.0, 160.0])/255.0\n",
    "colors[ROR_preds[mask]==1] = np.array([255.0, 99.0, 71.0])/255.0\n",
    "pcd.colors = o3d.utility.Vector3dVector(colors)\n",
    "o3d.visualization.draw_geometries([pcd])\n",
    "print(f\"Precision: {precision_score(labels, ROR_preds)}, Recall: {recall_score(labels, ROR_preds)}\")"
   ]
  },
  {
   "cell_type": "code",
   "execution_count": 5,
   "id": "bae83db9",
   "metadata": {},
   "outputs": [
    {
     "name": "stdout",
     "output_type": "stream",
     "text": [
      "Precision: 0.18241695303550973, Recall: 0.06934465490964511\n"
     ]
    }
   ],
   "source": [
    "inliers = SOR_fn(scan[:,:3], num_neighbour=5, std_mul=0.6)\n",
    "SOR_preds = np.logical_not(inliers).astype(np.int32)\n",
    "mask = scan[:,2]<1.5\n",
    "pcd = o3d.geometry.PointCloud(o3d.utility.Vector3dVector(scan[mask,:3]))\n",
    "colors = np.zeros((mask.sum(), 3))\n",
    "colors[SOR_preds[mask]==0] = np.array([153.0, 157.0, 160.0])/255.0\n",
    "colors[SOR_preds[mask]==1] = np.array([255.0, 99.0, 71.0])/255.0\n",
    "pcd.colors = o3d.utility.Vector3dVector(colors)\n",
    "o3d.visualization.draw_geometries([pcd])\n",
    "print(f\"Precision: {precision_score(labels, SOR_preds)}, Recall: {recall_score(labels, SOR_preds)}\")"
   ]
  },
  {
   "cell_type": "code",
   "execution_count": 6,
   "id": "a8a92c7e",
   "metadata": {},
   "outputs": [
    {
     "name": "stdout",
     "output_type": "stream",
     "text": [
      "Precision: 0.665224032586558, Recall: 0.8533638145003266\n"
     ]
    }
   ],
   "source": [
    "inliers = DROR_fn(scan[:,:3], \n",
    "                  radius_multiplier=0.7, \n",
    "                  azimuth_angle_deg=2.8125, \n",
    "                  min_neighbour=5, \n",
    "                  min_search_radius=0, \n",
    "                  max_search_radius=10)\n",
    "DROR_preds = np.logical_not(inliers).astype(np.int32)\n",
    "mask = scan[:,2]<1.5\n",
    "pcd = o3d.geometry.PointCloud(o3d.utility.Vector3dVector(scan[mask,:3]))\n",
    "colors = np.zeros((mask.sum(), 3))\n",
    "colors[DROR_preds[mask]==0] = np.array([153.0, 157.0, 160.0])/255.0\n",
    "colors[DROR_preds[mask]==1] = np.array([255.0, 99.0, 71.0])/255.0\n",
    "pcd.colors = o3d.utility.Vector3dVector(colors)\n",
    "o3d.visualization.draw_geometries([pcd])\n",
    "print(f\"Precision: {precision_score(labels, DROR_preds)}, Recall: {recall_score(labels, DROR_preds)}\")"
   ]
  },
  {
   "cell_type": "code",
   "execution_count": 7,
   "id": "b8a6f551",
   "metadata": {},
   "outputs": [
    {
     "name": "stdout",
     "output_type": "stream",
     "text": [
      "Precision: 0.6093429158110883, Recall: 0.9045286305247116\n"
     ]
    }
   ],
   "source": [
    "inliers = DSOR_fn(scan[:,:3], \n",
    "                  num_neighbour=5, \n",
    "                  std_mul=0.15, \n",
    "                  range_mul=0.3, \n",
    "                  distance_upper_bound=np.inf)\n",
    "DSOR_preds = np.logical_not(inliers).astype(np.int32)\n",
    "mask = scan[:,2]<1.5\n",
    "pcd = o3d.geometry.PointCloud(o3d.utility.Vector3dVector(scan[mask,:3]))\n",
    "colors = np.zeros((mask.sum(), 3))\n",
    "colors[DSOR_preds[mask]==0] = np.array([153.0, 157.0, 160.0])/255.0\n",
    "colors[DSOR_preds[mask]==1] = np.array([255.0, 99.0, 71.0])/255.0\n",
    "pcd.colors = o3d.utility.Vector3dVector(colors)\n",
    "o3d.visualization.draw_geometries([pcd])\n",
    "print(f\"Precision: {precision_score(labels, DSOR_preds)}, Recall: {recall_score(labels, DSOR_preds)}\")"
   ]
  },
  {
   "cell_type": "code",
   "execution_count": 9,
   "id": "a7c3cd45",
   "metadata": {},
   "outputs": [],
   "source": [
    "# Dense Fog (inside)\n",
    "#         P      R\n",
    "# ROR   0.373  0.014\n",
    "# SOR   0.182  0.069\n",
    "# DROR  0.665  0.853\n",
    "# DSOR  0.609  0.904"
   ]
  },
  {
   "cell_type": "code",
   "execution_count": 10,
   "id": "eabcd078",
   "metadata": {},
   "outputs": [],
   "source": [
    "# Dense Fog (outside)\n",
    "#         P      R\n",
    "# ROR   0.091  0.416\n",
    "# SOR   0.074  0.799\n",
    "# DROR  0.074  0.924\n",
    "# DSOR  0.112  0.825"
   ]
  },
  {
   "cell_type": "code",
   "execution_count": null,
   "id": "fbb65117",
   "metadata": {},
   "outputs": [],
   "source": []
  }
 ],
 "metadata": {
  "kernelspec": {
   "display_name": "Python 3 (ipykernel)",
   "language": "python",
   "name": "python3"
  },
  "language_info": {
   "codemirror_mode": {
    "name": "ipython",
    "version": 3
   },
   "file_extension": ".py",
   "mimetype": "text/x-python",
   "name": "python",
   "nbconvert_exporter": "python",
   "pygments_lexer": "ipython3",
   "version": "3.8.10"
  }
 },
 "nbformat": 4,
 "nbformat_minor": 5
}
